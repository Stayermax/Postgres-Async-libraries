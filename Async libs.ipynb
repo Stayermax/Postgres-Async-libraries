{
 "cells": [
  {
   "cell_type": "markdown",
   "id": "ce0645cc",
   "metadata": {
    "slideshow": {
     "slide_type": "slide"
    }
   },
   "source": [
    "# Async postgres libraries research\n",
    "\n",
    "- Multyprocessing in Python \n",
    "- Why do we need to use asyncio?\n",
    "- Can we still use pg8000?\n",
    "- Libraries"
   ]
  },
  {
   "cell_type": "markdown",
   "id": "b36e76ff",
   "metadata": {
    "slideshow": {
     "slide_type": "slide"
    }
   },
   "source": [
    "# Multyprocessing in Python \n"
   ]
  },
  {
   "cell_type": "markdown",
   "id": "ebca4553",
   "metadata": {
    "slideshow": {
     "slide_type": "slide"
    }
   },
   "source": [
    "## Sync vs Async\n",
    "- In Syncrhonous operations, the tasks are executed in sync, one after one. \n",
    "- In asynchronous operations, tasks may start and complete independent of each other. One async task may start and continue running while the execution moves on to a new task. \n",
    "- Async tasks don’t block (make the execution wait for it’s completion) operations and usually run in the background."
   ]
  },
  {
   "cell_type": "markdown",
   "id": "958f68ef",
   "metadata": {
    "slideshow": {
     "slide_type": "slide"
    }
   },
   "source": [
    "## Concurrency and Parallelism\n",
    "- Concurrency implies that two tasks make progress together. \n",
    "- Parallelism is in fact a form of concurrency. \n",
    "- But parallelism is hardware dependent. \n",
    "- For example if there’s only one core in the CPU, two operations can’t really run in parallel. "
   ]
  },
  {
   "cell_type": "markdown",
   "id": "bac03afc",
   "metadata": {
    "slideshow": {
     "slide_type": "slide"
    }
   },
   "source": [
    "## Summary:\n",
    "* Sync: Blocking operations.\n",
    "* Async: Non blocking operations.\n",
    "* Concurrency: Making progress together.\n",
    "* Parallelism: Making progress in parallel.\n",
    "\n",
    "Email, phone call example"
   ]
  },
  {
   "cell_type": "markdown",
   "id": "e8364007",
   "metadata": {
    "slideshow": {
     "slide_type": "subslide"
    }
   },
   "source": [
    "### Parallelism implies Concurrency. But Concurrency doesn’t always mean Parallelism."
   ]
  },
  {
   "cell_type": "markdown",
   "id": "c7a40f13",
   "metadata": {
    "slideshow": {
     "slide_type": "slide"
    }
   },
   "source": [
    "## Threads & Processes"
   ]
  },
  {
   "cell_type": "markdown",
   "id": "13489c98",
   "metadata": {
    "slideshow": {
     "slide_type": "slide"
    }
   },
   "source": [
    "# Threads\n",
    "- Python has had Threads for a very long time. \n",
    "- Threads allow us to run our operations concurrently. \n",
    "- There is a problem with the Global Interpreter Lock (GIL) for which the **threading could not provide true parallelism.**"
   ]
  },
  {
   "cell_type": "markdown",
   "id": "ebd6b05b",
   "metadata": {
    "slideshow": {
     "slide_type": "skip"
    }
   },
   "source": [
    "# Global Interpreter Lock (GIL)\n",
    "The Global Interpreter Lock aka GIL was introduced to make CPython’s memory handling easier and to allow better integrations with C (for example the extensions). The GIL is a locking mechanism that the Python interpreter runs only one thread at a time. That is only one thread can execute Python byte code at any given time. This GIL makes sure that multiple threads DO NOT run in parallel.\n",
    "\n",
    "Quick facts about the GIL:\n",
    "\n",
    "* One thread can run at a time.\n",
    "* The Python Interpreter switches between threads to allow concurrency.\n",
    "* The GIL is only applicable to CPython (the defacto implementation). Other implementations like Jython, IronPython don’t have GIL.\n",
    "* GIL makes single threaded programs fast.\n",
    "* For I/O bound operations, GIL usually doesn’t harm much.\n",
    "* GIL makes it easy to integrate non thread safe C libraries, thansk to the GIL, we have many high performance extensions/modules written in C.\n",
    "* For CPU bound tasks, the interpreter checks between N ticks and switches threads. So one thread does not block others."
   ]
  },
  {
   "cell_type": "markdown",
   "id": "16996240",
   "metadata": {
    "slideshow": {
     "slide_type": "slide"
    }
   },
   "source": [
    "## Processes\n",
    "- To get parallelism, Python introduced the multiprocessing module.\n",
    "- Every core can take one process\n",
    "\n"
   ]
  },
  {
   "cell_type": "markdown",
   "id": "77900f71",
   "metadata": {
    "slideshow": {
     "slide_type": "slide"
    }
   },
   "source": [
    "# Why don't we use Threads to solve our issue?\n",
    "* Processes are costly to spawn. \n",
    "* We know that I/O depends on external stuff - slow disks or nasty network lags make I/O often unpredictable. \n",
    "* 3 threads example. "
   ]
  },
  {
   "cell_type": "markdown",
   "id": "637f9559",
   "metadata": {
    "slideshow": {
     "slide_type": "skip"
    }
   },
   "source": [
    "# 3 threads example.\n",
    "Processes are costly to spawn. So for I/O, Threads are chosen largely. We know that I/O depends on external stuff - slow disks or nasty network lags make I/O often unpredictable. Now, let’s assume that we are using threads for I/O bound operations. 3 threads are doing different I/O tasks. The interpreter would need to switch between the concurrent threads and give each of them some time in turns. Let’s call the threads - T1, T2 and T3. The three threads have started their I/O operation. T3 completes it first. T2 and T1 are still waiting for I/O. The Python interpreter switches to T1 but it’s still waiting. Fine, so it moves to T2, it’s still waiting and then it moves to T3 which is ready and executes the code. Do you see the problem here?\n",
    "\n",
    "T3 was ready but the interpreter switched between T2 and T1 first - that incurred switching costs which we could have avoided if the interpreter first moved to T3, right?\n",
    "\n",
    "http://masnun.rocks/2016/10/06/async-python-the-different-forms-of-concurrency/"
   ]
  },
  {
   "cell_type": "markdown",
   "id": "7c84a6a2",
   "metadata": {
    "slideshow": {
     "slide_type": "slide"
    }
   },
   "source": [
    "# Why do we need to use asyncio?\n",
    "- Asyncio provides us an event loop. \n",
    "- The event loop tracks different I/O events and **switches to tasks which are ready** and **pauses the ones which are waiting on I/O**.\n",
    "- Thus we don’t waste time on tasks which are not ready to run right now.\n",
    "- Multithreading programming is all about concurrent execution of different functions. \n",
    "- Async programming is about non-blocking execution between functions"
   ]
  },
  {
   "cell_type": "markdown",
   "id": "e9760c8c",
   "metadata": {
    "slideshow": {
     "slide_type": "subslide"
    }
   },
   "source": [
    "The idea is very simple. \n",
    "- There’s an event loop. \n",
    "- And we have functions that run async, I/O operations. \n",
    "- We give our functions to the event loop and ask it to run those for us. \n",
    "- The event loop gives us back a Future object, it’s like a promise that we will get something back in the future. \n",
    "- We hold on to the promise, time to time check if it has a value (when we feel impatient) and finally when the future has a value, we use it in some other operations."
   ]
  },
  {
   "cell_type": "markdown",
   "id": "c0cb61d8",
   "metadata": {
    "slideshow": {
     "slide_type": "subslide"
    }
   },
   "source": [
    "## Why do we need to use asyncio?\n",
    "* CPU Bound => Multi Processing\n",
    "* I/O Bound, Fast I/O, Limited Number of Connections => Multi Threading\n",
    "* I/O Bound, Slow I/O, Many connections => Asyncio"
   ]
  },
  {
   "cell_type": "markdown",
   "id": "fe5bd70a",
   "metadata": {
    "slideshow": {
     "slide_type": "skip"
    }
   },
   "source": [
    "- It is very difficult to write code that is thread safe. With asyncronous code, you know exactly where the code will shift from one task to the next and race conditions are therefore much harder to come by.\n",
    "- Threads consume a fair amount of data since each thread needs to have its own stack. With async code, all the code shares the same stack and the stack is kept small due to continuously unwinding the stack between tasks.\n",
    "- Threads are OS structures and are therefore more memory for the platform to support. There is no such problem with asynchronous tasks."
   ]
  },
  {
   "cell_type": "markdown",
   "id": "dc1407eb",
   "metadata": {
    "slideshow": {
     "slide_type": "slide"
    }
   },
   "source": [
    "# Can we still use pg8000?\n",
    "Yes, if we use threads. But it's not the best solution in our case, since we wan't to have a lot of calls to db and a lot of connections."
   ]
  },
  {
   "cell_type": "markdown",
   "id": "a8ec3fd7",
   "metadata": {
    "slideshow": {
     "slide_type": "slide"
    }
   },
   "source": [
    "# Async postgres libraries"
   ]
  },
  {
   "cell_type": "markdown",
   "id": "6b35622b",
   "metadata": {
    "slideshow": {
     "slide_type": "subslide"
    }
   },
   "source": [
    "We will compare 3 libraries today:\n",
    "1. aiopg\n",
    "2. psycopg3\n",
    "3. asyncpg "
   ]
  },
  {
   "cell_type": "code",
   "execution_count": 1,
   "id": "49851c64",
   "metadata": {
    "slideshow": {
     "slide_type": "skip"
    }
   },
   "outputs": [],
   "source": [
    "# Postgres database details:\n",
    "host = \"host\"\n",
    "db_name = \"db_name\"\n",
    "port = \"5432\"\n",
    "username = \"username\"\n",
    "password = \"password\"\n",
    "schema = \"schema\""
   ]
  },
  {
   "cell_type": "code",
   "execution_count": 2,
   "id": "b49f91a7",
   "metadata": {
    "slideshow": {
     "slide_type": "skip"
    }
   },
   "outputs": [],
   "source": [
    "PINK = '\\033[38;5;205m'\n",
    "TEAL = '\\033[38;5;31m'\n",
    "GREEN = '\\033[32m'\n",
    "RESET = '\\033[0m'\n",
    "\n",
    "def print_pink(msg):\n",
    "    print(PINK + str(msg) + RESET)\n",
    "    \n",
    "def print_teal(msg):\n",
    "    print(TEAL + str(msg) + RESET)\n",
    "    \n",
    "def print_green(msg):\n",
    "    print(GREEN + str(msg) + RESET)\n",
    "\n",
    "    \n",
    "def print_in_color(msg, color):\n",
    "    if color == 'green':\n",
    "        print_green(msg)\n",
    "    elif color == 'teal':\n",
    "        print_teal(msg)\n",
    "    else:\n",
    "        print_pink(msg)"
   ]
  },
  {
   "cell_type": "markdown",
   "id": "855dfea8",
   "metadata": {
    "slideshow": {
     "slide_type": "slide"
    }
   },
   "source": [
    "# aiopg\n",
    "\n",
    "- Python: 3.6+ \n",
    "- OS: Linux, macOS, Windows\n",
    "- Uses psycopg2-binary and requires sqlalchemy"
   ]
  },
  {
   "cell_type": "markdown",
   "id": "afd80c11",
   "metadata": {
    "slideshow": {
     "slide_type": "fragment"
    }
   },
   "source": [
    "- 1327 stars\n",
    "- last release October 2022 (9 month ago)\n",
    "- 59 issues\n",
    "- 12 open PRs"
   ]
  },
  {
   "cell_type": "code",
   "execution_count": 3,
   "id": "50dbbe2f",
   "metadata": {
    "slideshow": {
     "slide_type": "slide"
    }
   },
   "outputs": [
    {
     "name": "stderr",
     "output_type": "stream",
     "text": [
      "/var/folders/9z/rhfc541d14q5klxp9lqvgx8m0000gq/T/ipykernel_23983/2917714263.py:4: DeprecationWarning: Importing display from IPython.core.display is deprecated since IPython 7.14, please import from IPython display\n",
      "  from IPython.core.display import Image, display\n"
     ]
    }
   ],
   "source": [
    "import sqlalchemy\n",
    "import asyncio\n",
    "from aiopg.sa import create_engine as aiopg_create_engine\n",
    "from IPython.core.display import Image, display\n",
    "\n",
    "async def aiopg_async_get_monitors_many_calls(color=\"green\"):\n",
    "    # Open async connection\n",
    "    print_in_color(f\"Openning connection\", color=color)\n",
    "    async with aiopg_create_engine(\n",
    "        host=host,\n",
    "        port=port,\n",
    "        user=username,\n",
    "        password=password,\n",
    "        dbname=db_name,\n",
    "        options=f\"-c search_path=dbo,{schema}\"\n",
    "    ) as engine:\n",
    "        \n",
    "        async with engine.acquire() as conn:\n",
    "            async for row in conn.execute(f\"\"\"SELECT id, name FROM dh_monitors LIMIT 3\"\"\"):\n",
    "                print_in_color(row, color)"
   ]
  },
  {
   "cell_type": "code",
   "execution_count": 4,
   "id": "912b26e7",
   "metadata": {
    "slideshow": {
     "slide_type": "subslide"
    }
   },
   "outputs": [
    {
     "data": {
      "text/plain": [
       "<_GatheringFuture pending>"
      ]
     },
     "execution_count": 4,
     "metadata": {},
     "output_type": "execute_result"
    },
    {
     "name": "stdout",
     "output_type": "stream",
     "text": [
      "\u001b[32mOpenning connection\u001b[0m\n",
      "\u001b[38;5;205mOpenning connection\u001b[0m\n",
      "\u001b[38;5;31mOpenning connection\u001b[0m\n",
      "\u001b[38;5;205m(UUID('c17feb88-db0b-4c58-84c1-8bac48b0dc77'), 'monitor_for_deletion')\u001b[0m\n",
      "\u001b[38;5;205m(UUID('e72bd6e6-b880-4b64-b91b-dedfa98fb12e'), 'vitaly_leen_reg_mon_1')\u001b[0m\n",
      "\u001b[38;5;205m(UUID('6f2b03f0-bedb-4b31-b937-190d88c1f040'), 'not_standalone_monitor_007')\u001b[0m\n",
      "\u001b[38;5;31m(UUID('c17feb88-db0b-4c58-84c1-8bac48b0dc77'), 'monitor_for_deletion')\u001b[0m\n",
      "\u001b[38;5;31m(UUID('e72bd6e6-b880-4b64-b91b-dedfa98fb12e'), 'vitaly_leen_reg_mon_1')\u001b[0m\n",
      "\u001b[38;5;31m(UUID('6f2b03f0-bedb-4b31-b937-190d88c1f040'), 'not_standalone_monitor_007')\u001b[0m\n",
      "\u001b[32m(UUID('c17feb88-db0b-4c58-84c1-8bac48b0dc77'), 'monitor_for_deletion')\u001b[0m\n",
      "\u001b[32m(UUID('e72bd6e6-b880-4b64-b91b-dedfa98fb12e'), 'vitaly_leen_reg_mon_1')\u001b[0m\n",
      "\u001b[32m(UUID('6f2b03f0-bedb-4b31-b937-190d88c1f040'), 'not_standalone_monitor_007')\u001b[0m\n"
     ]
    }
   ],
   "source": [
    "asyncio.gather(\n",
    "    aiopg_async_get_monitors_many_calls(color='green'),\n",
    "    aiopg_async_get_monitors_many_calls(color=\"pink\"),\n",
    "    aiopg_async_get_monitors_many_calls(color=\"teal\")\n",
    ")"
   ]
  },
  {
   "cell_type": "markdown",
   "id": "0ba10a3e",
   "metadata": {
    "slideshow": {
     "slide_type": "slide"
    }
   },
   "source": [
    "# psycopg3\n",
    "\n",
    "- Python: from version 3.7 to 3.11\n",
    "- Python 3.6 supported before Psycopg 3.1\n",
    "- PostgreSQL: from version 10 to 15 (We use 14)\n",
    "- OS: Linux, macOS, Windows"
   ]
  },
  {
   "cell_type": "markdown",
   "id": "0e4cc1aa",
   "metadata": {
    "slideshow": {
     "slide_type": "fragment"
    }
   },
   "source": [
    "- 1100 stars\n",
    "- last commit recently\n",
    "- 35 issues\n",
    "- 11 open PRs"
   ]
  },
  {
   "cell_type": "markdown",
   "id": "00ab92e4",
   "metadata": {
    "slideshow": {
     "slide_type": "skip"
    }
   },
   "source": [
    "### Sync way"
   ]
  },
  {
   "cell_type": "code",
   "execution_count": 5,
   "id": "f9725c47",
   "metadata": {
    "slideshow": {
     "slide_type": "skip"
    }
   },
   "outputs": [
    {
     "name": "stdout",
     "output_type": "stream",
     "text": [
      "\u001b[38;5;31m{'id': UUID('c17feb88-db0b-4c58-84c1-8bac48b0dc77'), 'name': 'monitor_for_deletion'}\u001b[0m\n",
      "\u001b[38;5;31m{'id': UUID('e72bd6e6-b880-4b64-b91b-dedfa98fb12e'), 'name': 'vitaly_leen_reg_mon_1'}\u001b[0m\n",
      "\u001b[38;5;31m{'id': UUID('6f2b03f0-bedb-4b31-b937-190d88c1f040'), 'name': 'not_standalone_monitor_007'}\u001b[0m\n"
     ]
    }
   ],
   "source": [
    "import psycopg\n",
    "from psycopg.rows import dict_row\n",
    "\n",
    "def sync_get_monitors(color):\n",
    "    with psycopg.connect(\n",
    "        host=host,\n",
    "        port=port,\n",
    "        user=username,\n",
    "        password=password,\n",
    "        dbname=db_name,\n",
    "        options=f\"-c search_path=dbo,{schema}\"\n",
    "    ) as conn:\n",
    "\n",
    "        # Open a cursor to perform database operations\n",
    "        with conn.cursor(row_factory=dict_row) as cur:\n",
    "            cur.execute(\"\"\"SELECT id, name FROM dh_monitors LIMIT 3\"\"\")\n",
    "            for record in cur:\n",
    "                print_in_color(record, color=color)\n",
    "\n",
    "sync_get_monitors(color=\"teal\")"
   ]
  },
  {
   "cell_type": "markdown",
   "id": "5eb4817a",
   "metadata": {
    "slideshow": {
     "slide_type": "skip"
    }
   },
   "source": [
    "### Async way"
   ]
  },
  {
   "cell_type": "code",
   "execution_count": 6,
   "id": "71747dcb",
   "metadata": {
    "slideshow": {
     "slide_type": "slide"
    }
   },
   "outputs": [],
   "source": [
    "async def psycopg3_async_get_monitors_many_calls(color=\"green\"):\n",
    "    # Open async connection\n",
    "    print_in_color(f\"Openning connection\", color=color)\n",
    "    async with await psycopg.AsyncConnection.connect(\n",
    "        host=host,\n",
    "        port=port,\n",
    "        user=username,\n",
    "        password=password,\n",
    "        dbname=db_name,\n",
    "        options=f\"-c search_path=dbo,{schema}\") as aconn:\n",
    "        \n",
    "        # Open an async cursor to perform database operations\n",
    "        async with aconn.cursor(row_factory=dict_row) as acur:\n",
    "            await acur.execute(f\"\"\"SELECT id, name FROM dh_monitors LIMIT 3\"\"\")\n",
    "            async for record in acur:\n",
    "                print_in_color(record, color=color)\n",
    "            print_in_color(f\"fetched 100 %\", color=color)"
   ]
  },
  {
   "cell_type": "code",
   "execution_count": 7,
   "id": "c3cb9e01",
   "metadata": {
    "slideshow": {
     "slide_type": "subslide"
    }
   },
   "outputs": [
    {
     "data": {
      "text/plain": [
       "<_GatheringFuture pending>"
      ]
     },
     "execution_count": 7,
     "metadata": {},
     "output_type": "execute_result"
    },
    {
     "name": "stdout",
     "output_type": "stream",
     "text": [
      "\u001b[32mOpenning connection\u001b[0m\n",
      "\u001b[38;5;205mOpenning connection\u001b[0m\n",
      "\u001b[38;5;31mOpenning connection\u001b[0m\n",
      "\u001b[32m{'id': UUID('c17feb88-db0b-4c58-84c1-8bac48b0dc77'), 'name': 'monitor_for_deletion'}\u001b[0m\n",
      "\u001b[32m{'id': UUID('e72bd6e6-b880-4b64-b91b-dedfa98fb12e'), 'name': 'vitaly_leen_reg_mon_1'}\u001b[0m\n",
      "\u001b[32m{'id': UUID('6f2b03f0-bedb-4b31-b937-190d88c1f040'), 'name': 'not_standalone_monitor_007'}\u001b[0m\n",
      "\u001b[32mfetched 100 %\u001b[0m\n",
      "\u001b[38;5;205m{'id': UUID('c17feb88-db0b-4c58-84c1-8bac48b0dc77'), 'name': 'monitor_for_deletion'}\u001b[0m\n",
      "\u001b[38;5;205m{'id': UUID('e72bd6e6-b880-4b64-b91b-dedfa98fb12e'), 'name': 'vitaly_leen_reg_mon_1'}\u001b[0m\n",
      "\u001b[38;5;205m{'id': UUID('6f2b03f0-bedb-4b31-b937-190d88c1f040'), 'name': 'not_standalone_monitor_007'}\u001b[0m\n",
      "\u001b[38;5;205mfetched 100 %\u001b[0m\n",
      "\u001b[38;5;31m{'id': UUID('c17feb88-db0b-4c58-84c1-8bac48b0dc77'), 'name': 'monitor_for_deletion'}\u001b[0m\n",
      "\u001b[38;5;31m{'id': UUID('e72bd6e6-b880-4b64-b91b-dedfa98fb12e'), 'name': 'vitaly_leen_reg_mon_1'}\u001b[0m\n",
      "\u001b[38;5;31m{'id': UUID('6f2b03f0-bedb-4b31-b937-190d88c1f040'), 'name': 'not_standalone_monitor_007'}\u001b[0m\n",
      "\u001b[38;5;31mfetched 100 %\u001b[0m\n"
     ]
    }
   ],
   "source": [
    "asyncio.gather(\n",
    "    psycopg3_async_get_monitors_many_calls(color='green'),\n",
    "    psycopg3_async_get_monitors_many_calls(color=\"pink\"),\n",
    "    psycopg3_async_get_monitors_many_calls(color=\"teal\")\n",
    ")"
   ]
  },
  {
   "cell_type": "markdown",
   "id": "6ec9ea7f",
   "metadata": {
    "slideshow": {
     "slide_type": "skip"
    }
   },
   "source": [
    "### Async way with one connection"
   ]
  },
  {
   "cell_type": "code",
   "execution_count": 8,
   "id": "773c3f04",
   "metadata": {
    "slideshow": {
     "slide_type": "skip"
    }
   },
   "outputs": [],
   "source": [
    "async def async_get_monitors_with_connection(aconn, color=\"green\"):\n",
    "    print_in_color(f\"Creating cursor\", color=color)            \n",
    "    acur = aconn.cursor(row_factory=dict_row)\n",
    "    \n",
    "    # Open an async cursor to perform database operations\n",
    "    print_in_color(f\"Starting fetching\", color=color)            \n",
    "    await acur.execute(f\"\"\"SELECT id, name FROM dh_monitors LIMIT 3\"\"\")\n",
    "    async for record in acur:\n",
    "        print_in_color(record, color=color)\n",
    "    print_in_color(f\"fetched 100 %\", color=color)"
   ]
  },
  {
   "cell_type": "code",
   "execution_count": 9,
   "id": "dbc7f16f",
   "metadata": {
    "slideshow": {
     "slide_type": "skip"
    }
   },
   "outputs": [
    {
     "name": "stdout",
     "output_type": "stream",
     "text": [
      "Openning connection\n"
     ]
    },
    {
     "data": {
      "text/plain": [
       "<_GatheringFuture pending>"
      ]
     },
     "execution_count": 9,
     "metadata": {},
     "output_type": "execute_result"
    },
    {
     "name": "stdout",
     "output_type": "stream",
     "text": [
      "\u001b[32mCreating cursor\u001b[0m\n",
      "\u001b[32mStarting fetching\u001b[0m\n",
      "\u001b[38;5;205mCreating cursor\u001b[0m\n",
      "\u001b[38;5;205mStarting fetching\u001b[0m\n",
      "\u001b[38;5;31mCreating cursor\u001b[0m\n",
      "\u001b[38;5;31mStarting fetching\u001b[0m\n",
      "\u001b[32m{'id': UUID('c17feb88-db0b-4c58-84c1-8bac48b0dc77'), 'name': 'monitor_for_deletion'}\u001b[0m\n",
      "\u001b[32m{'id': UUID('e72bd6e6-b880-4b64-b91b-dedfa98fb12e'), 'name': 'vitaly_leen_reg_mon_1'}\u001b[0m\n",
      "\u001b[32m{'id': UUID('6f2b03f0-bedb-4b31-b937-190d88c1f040'), 'name': 'not_standalone_monitor_007'}\u001b[0m\n",
      "\u001b[32mfetched 100 %\u001b[0m\n",
      "\u001b[38;5;205m{'id': UUID('c17feb88-db0b-4c58-84c1-8bac48b0dc77'), 'name': 'monitor_for_deletion'}\u001b[0m\n",
      "\u001b[38;5;205m{'id': UUID('e72bd6e6-b880-4b64-b91b-dedfa98fb12e'), 'name': 'vitaly_leen_reg_mon_1'}\u001b[0m\n",
      "\u001b[38;5;205m{'id': UUID('6f2b03f0-bedb-4b31-b937-190d88c1f040'), 'name': 'not_standalone_monitor_007'}\u001b[0m\n",
      "\u001b[38;5;205mfetched 100 %\u001b[0m\n",
      "\u001b[38;5;31m{'id': UUID('c17feb88-db0b-4c58-84c1-8bac48b0dc77'), 'name': 'monitor_for_deletion'}\u001b[0m\n",
      "\u001b[38;5;31m{'id': UUID('e72bd6e6-b880-4b64-b91b-dedfa98fb12e'), 'name': 'vitaly_leen_reg_mon_1'}\u001b[0m\n",
      "\u001b[38;5;31m{'id': UUID('6f2b03f0-bedb-4b31-b937-190d88c1f040'), 'name': 'not_standalone_monitor_007'}\u001b[0m\n",
      "\u001b[38;5;31mfetched 100 %\u001b[0m\n"
     ]
    }
   ],
   "source": [
    "print(f\"Openning connection\")     \n",
    "aconn = await psycopg.AsyncConnection.connect(\n",
    "    host=host,\n",
    "    port=port,\n",
    "    user=username,\n",
    "    password=password,\n",
    "    dbname=db_name,\n",
    "    options=f\"-c search_path=dbo,{schema}\")\n",
    "\n",
    "asyncio.gather(\n",
    "    async_get_monitors_with_connection(aconn=aconn, color='green'),\n",
    "    async_get_monitors_with_connection(aconn=aconn, color=\"pink\"),\n",
    "    async_get_monitors_with_connection(aconn=aconn, color=\"teal\")\n",
    ")"
   ]
  },
  {
   "cell_type": "markdown",
   "id": "a9eaf442",
   "metadata": {
    "slideshow": {
     "slide_type": "skip"
    }
   },
   "source": [
    "### Async way with one cursor"
   ]
  },
  {
   "cell_type": "code",
   "execution_count": 10,
   "id": "0615739a",
   "metadata": {
    "slideshow": {
     "slide_type": "skip"
    }
   },
   "outputs": [],
   "source": [
    "async def async_get_monitors_with_cursor(acur, color=\"green\"):\n",
    "    # Open an async cursor to perform database operations\n",
    "    print_in_color(f\"Starting fetching\", color=color)            \n",
    "    await acur.execute(f\"\"\"SELECT id, name FROM dh_monitors LIMIT 3\"\"\")\n",
    "    async for record in acur:\n",
    "        print_in_color(record, color=color)\n",
    "    print_in_color(f\"fetched 100 %\", color=color)"
   ]
  },
  {
   "cell_type": "code",
   "execution_count": 11,
   "id": "78f7da65",
   "metadata": {
    "slideshow": {
     "slide_type": "skip"
    }
   },
   "outputs": [
    {
     "name": "stdout",
     "output_type": "stream",
     "text": [
      "Openning connection\n"
     ]
    },
    {
     "data": {
      "text/plain": [
       "<_GatheringFuture pending>"
      ]
     },
     "execution_count": 11,
     "metadata": {},
     "output_type": "execute_result"
    },
    {
     "name": "stdout",
     "output_type": "stream",
     "text": [
      "\u001b[32mStarting fetching\u001b[0m\n",
      "\u001b[38;5;205mStarting fetching\u001b[0m\n",
      "\u001b[38;5;31mStarting fetching\u001b[0m\n",
      "\u001b[32m{'id': UUID('c17feb88-db0b-4c58-84c1-8bac48b0dc77'), 'name': 'monitor_for_deletion'}\u001b[0m\n",
      "\u001b[32m{'id': UUID('e72bd6e6-b880-4b64-b91b-dedfa98fb12e'), 'name': 'vitaly_leen_reg_mon_1'}\u001b[0m\n",
      "\u001b[32m{'id': UUID('6f2b03f0-bedb-4b31-b937-190d88c1f040'), 'name': 'not_standalone_monitor_007'}\u001b[0m\n",
      "\u001b[32mfetched 100 %\u001b[0m\n",
      "\u001b[38;5;205m{'id': UUID('c17feb88-db0b-4c58-84c1-8bac48b0dc77'), 'name': 'monitor_for_deletion'}\u001b[0m\n",
      "\u001b[38;5;205m{'id': UUID('e72bd6e6-b880-4b64-b91b-dedfa98fb12e'), 'name': 'vitaly_leen_reg_mon_1'}\u001b[0m\n",
      "\u001b[38;5;205m{'id': UUID('6f2b03f0-bedb-4b31-b937-190d88c1f040'), 'name': 'not_standalone_monitor_007'}\u001b[0m\n",
      "\u001b[38;5;205mfetched 100 %\u001b[0m\n",
      "\u001b[38;5;31m{'id': UUID('c17feb88-db0b-4c58-84c1-8bac48b0dc77'), 'name': 'monitor_for_deletion'}\u001b[0m\n",
      "\u001b[38;5;31m{'id': UUID('e72bd6e6-b880-4b64-b91b-dedfa98fb12e'), 'name': 'vitaly_leen_reg_mon_1'}\u001b[0m\n",
      "\u001b[38;5;31m{'id': UUID('6f2b03f0-bedb-4b31-b937-190d88c1f040'), 'name': 'not_standalone_monitor_007'}\u001b[0m\n",
      "\u001b[38;5;31mfetched 100 %\u001b[0m\n"
     ]
    }
   ],
   "source": [
    "print(f\"Openning connection\")     \n",
    "aconn = await psycopg.AsyncConnection.connect(\n",
    "    host=host,\n",
    "    port=port,\n",
    "    user=username,\n",
    "    password=password,\n",
    "    dbname=db_name,\n",
    "    options=f\"-c search_path=dbo,{schema}\")\n",
    "acur = aconn.cursor(row_factory=dict_row)\n",
    "\n",
    "asyncio.gather(\n",
    "    async_get_monitors_with_cursor(acur=acur, color='green'),\n",
    "    async_get_monitors_with_cursor(acur=acur, color=\"pink\"),\n",
    "    async_get_monitors_with_cursor(acur=acur, color=\"teal\")\n",
    ")"
   ]
  },
  {
   "cell_type": "markdown",
   "id": "03712f4e",
   "metadata": {
    "slideshow": {
     "slide_type": "skip"
    }
   },
   "source": [
    "### Async way with one cursor and await"
   ]
  },
  {
   "cell_type": "code",
   "execution_count": 12,
   "id": "82eeca51",
   "metadata": {
    "slideshow": {
     "slide_type": "skip"
    }
   },
   "outputs": [],
   "source": [
    "async def async_get_monitors_with_cursor_and_await(acur, color=\"green\"):\n",
    "    # Open an async cursor to perform database operations\n",
    "    print_in_color(f\"Starting fetching\", color=color)            \n",
    "    await acur.execute(f\"\"\"SELECT id, name FROM dh_monitors LIMIT 3\"\"\")\n",
    "    for i in range(3):\n",
    "        print_in_color(await acur.fetchone(), color=color)\n",
    "        await asyncio.sleep(0)\n",
    "    print_in_color(f\"fetched 100 %\", color=color)\n"
   ]
  },
  {
   "cell_type": "code",
   "execution_count": 13,
   "id": "02c61a15",
   "metadata": {
    "slideshow": {
     "slide_type": "skip"
    }
   },
   "outputs": [
    {
     "name": "stdout",
     "output_type": "stream",
     "text": [
      "Openning connection\n"
     ]
    },
    {
     "data": {
      "text/plain": [
       "<_GatheringFuture pending>"
      ]
     },
     "execution_count": 13,
     "metadata": {},
     "output_type": "execute_result"
    },
    {
     "name": "stdout",
     "output_type": "stream",
     "text": [
      "\u001b[32mStarting fetching\u001b[0m\n",
      "\u001b[38;5;205mStarting fetching\u001b[0m\n",
      "\u001b[38;5;31mStarting fetching\u001b[0m\n",
      "\u001b[32m{'id': UUID('c17feb88-db0b-4c58-84c1-8bac48b0dc77'), 'name': 'monitor_for_deletion'}\u001b[0m\n",
      "\u001b[32m{'id': UUID('e72bd6e6-b880-4b64-b91b-dedfa98fb12e'), 'name': 'vitaly_leen_reg_mon_1'}\u001b[0m\n",
      "\u001b[32m{'id': UUID('6f2b03f0-bedb-4b31-b937-190d88c1f040'), 'name': 'not_standalone_monitor_007'}\u001b[0m\n",
      "\u001b[32mfetched 100 %\u001b[0m\n",
      "\u001b[38;5;205m{'id': UUID('c17feb88-db0b-4c58-84c1-8bac48b0dc77'), 'name': 'monitor_for_deletion'}\u001b[0m\n",
      "\u001b[38;5;205m{'id': UUID('e72bd6e6-b880-4b64-b91b-dedfa98fb12e'), 'name': 'vitaly_leen_reg_mon_1'}\u001b[0m\n",
      "\u001b[38;5;205m{'id': UUID('6f2b03f0-bedb-4b31-b937-190d88c1f040'), 'name': 'not_standalone_monitor_007'}\u001b[0m\n",
      "\u001b[38;5;205mfetched 100 %\u001b[0m\n",
      "\u001b[38;5;31m{'id': UUID('c17feb88-db0b-4c58-84c1-8bac48b0dc77'), 'name': 'monitor_for_deletion'}\u001b[0m\n",
      "\u001b[38;5;31m{'id': UUID('e72bd6e6-b880-4b64-b91b-dedfa98fb12e'), 'name': 'vitaly_leen_reg_mon_1'}\u001b[0m\n",
      "\u001b[38;5;31m{'id': UUID('6f2b03f0-bedb-4b31-b937-190d88c1f040'), 'name': 'not_standalone_monitor_007'}\u001b[0m\n",
      "\u001b[38;5;31mfetched 100 %\u001b[0m\n"
     ]
    }
   ],
   "source": [
    "print(f\"Openning connection\")     \n",
    "aconn = await psycopg.AsyncConnection.connect(\n",
    "    host=host,\n",
    "    port=port,\n",
    "    user=username,\n",
    "    password=password,\n",
    "    dbname=db_name,\n",
    "    options=f\"-c search_path=dbo,{schema}\")\n",
    "acur = aconn.cursor(row_factory=dict_row)\n",
    "\n",
    "\n",
    "asyncio.gather(\n",
    "    async_get_monitors_with_cursor(acur=acur, color='green'),\n",
    "    async_get_monitors_with_cursor(acur=acur, color=\"pink\"),\n",
    "    async_get_monitors_with_cursor(acur=acur, color=\"teal\")\n",
    ")"
   ]
  },
  {
   "cell_type": "markdown",
   "id": "624509a4",
   "metadata": {
    "slideshow": {
     "slide_type": "slide"
    }
   },
   "source": [
    "# asyncpg\n",
    "\n",
    "- Python: 3.7 +\n",
    "- PostgreSQL: from version 9.5- to 15 (We use 14)"
   ]
  },
  {
   "cell_type": "markdown",
   "id": "d19feaa4",
   "metadata": {
    "slideshow": {
     "slide_type": "fragment"
    }
   },
   "source": [
    "- 6100 stars\n",
    "- last commit recently\n",
    "- 181 issues\n",
    "- 20 open PRs"
   ]
  },
  {
   "cell_type": "code",
   "execution_count": 14,
   "id": "ef11e2b7",
   "metadata": {
    "slideshow": {
     "slide_type": "slide"
    }
   },
   "outputs": [],
   "source": [
    "import asyncpg\n",
    "async def asyncpg_async_get_monitors_many_calls(color=\"green\"):    \n",
    "    print_in_color(f\"Openning connection\", color=color)\n",
    "    conn = await asyncpg.connect(\n",
    "        host=host,\n",
    "        port=port,\n",
    "        user=username,\n",
    "        password=password,\n",
    "        database=db_name,\n",
    "        server_settings={'search_path': schema}\n",
    "        )\n",
    "    rows = await conn.fetch(f\"\"\"SELECT id, name FROM dh_monitors LIMIT 3\"\"\")\n",
    "    for row in rows:\n",
    "        print_in_color(dict(row), color=color)\n",
    "\n",
    "    await conn.close()"
   ]
  },
  {
   "cell_type": "code",
   "execution_count": 15,
   "id": "7c36a896",
   "metadata": {
    "slideshow": {
     "slide_type": "subslide"
    }
   },
   "outputs": [
    {
     "data": {
      "text/plain": [
       "<_GatheringFuture pending>"
      ]
     },
     "execution_count": 15,
     "metadata": {},
     "output_type": "execute_result"
    },
    {
     "name": "stdout",
     "output_type": "stream",
     "text": [
      "\u001b[32mOpenning connection\u001b[0m\n",
      "\u001b[38;5;205mOpenning connection\u001b[0m\n",
      "\u001b[38;5;31mOpenning connection\u001b[0m\n",
      "\u001b[38;5;205m{'id': UUID('c17feb88-db0b-4c58-84c1-8bac48b0dc77'), 'name': 'monitor_for_deletion'}\u001b[0m\n",
      "\u001b[38;5;205m{'id': UUID('e72bd6e6-b880-4b64-b91b-dedfa98fb12e'), 'name': 'vitaly_leen_reg_mon_1'}\u001b[0m\n",
      "\u001b[38;5;205m{'id': UUID('6f2b03f0-bedb-4b31-b937-190d88c1f040'), 'name': 'not_standalone_monitor_007'}\u001b[0m\n",
      "\u001b[32m{'id': UUID('c17feb88-db0b-4c58-84c1-8bac48b0dc77'), 'name': 'monitor_for_deletion'}\u001b[0m\n",
      "\u001b[32m{'id': UUID('e72bd6e6-b880-4b64-b91b-dedfa98fb12e'), 'name': 'vitaly_leen_reg_mon_1'}\u001b[0m\n",
      "\u001b[32m{'id': UUID('6f2b03f0-bedb-4b31-b937-190d88c1f040'), 'name': 'not_standalone_monitor_007'}\u001b[0m\n",
      "\u001b[38;5;31m{'id': UUID('c17feb88-db0b-4c58-84c1-8bac48b0dc77'), 'name': 'monitor_for_deletion'}\u001b[0m\n",
      "\u001b[38;5;31m{'id': UUID('e72bd6e6-b880-4b64-b91b-dedfa98fb12e'), 'name': 'vitaly_leen_reg_mon_1'}\u001b[0m\n",
      "\u001b[38;5;31m{'id': UUID('6f2b03f0-bedb-4b31-b937-190d88c1f040'), 'name': 'not_standalone_monitor_007'}\u001b[0m\n"
     ]
    }
   ],
   "source": [
    "asyncio.gather(\n",
    "    asyncpg_async_get_monitors_many_calls(color='green'),\n",
    "    asyncpg_async_get_monitors_many_calls(color=\"pink\"),\n",
    "    asyncpg_async_get_monitors_many_calls(color=\"teal\")\n",
    ")"
   ]
  },
  {
   "cell_type": "markdown",
   "id": "f73476bb",
   "metadata": {
    "slideshow": {
     "slide_type": "slide"
    }
   },
   "source": [
    "### Async way with functions that require many db calls"
   ]
  },
  {
   "cell_type": "code",
   "execution_count": 16,
   "id": "fc8ea557",
   "metadata": {
    "slideshow": {
     "slide_type": "fragment"
    }
   },
   "outputs": [],
   "source": [
    "import asyncio\n",
    "async def async_get_monitors_many_calls(color=\"green\"):\n",
    "    # Open async connection\n",
    "    print_in_color(f\"Openning connection\", color=color)\n",
    "    async with await psycopg.AsyncConnection.connect(\n",
    "        host=host,\n",
    "        port=port,\n",
    "        user=username,\n",
    "        password=password,\n",
    "        dbname=db_name,\n",
    "        options=f\"-c search_path=dbo,{schema}\") as aconn:\n",
    "        \n",
    "        # Open an async cursor to perform database operations\n",
    "        async with aconn.cursor(row_factory=dict_row) as acur:\n",
    "            await acur.execute(f\"\"\"SELECT id, name FROM dh_monitors LIMIT 3\"\"\")\n",
    "            async for record in acur:\n",
    "                print_in_color(record, color=color)\n",
    "                await asyncio.sleep(0)\n",
    "            print_in_color(f\"fetched 100 %\", color=color)"
   ]
  },
  {
   "cell_type": "code",
   "execution_count": 17,
   "id": "65f1163a",
   "metadata": {
    "slideshow": {
     "slide_type": "subslide"
    }
   },
   "outputs": [
    {
     "data": {
      "text/plain": [
       "<_GatheringFuture pending>"
      ]
     },
     "execution_count": 17,
     "metadata": {},
     "output_type": "execute_result"
    },
    {
     "name": "stdout",
     "output_type": "stream",
     "text": [
      "\u001b[32mOpenning connection\u001b[0m\n",
      "\u001b[38;5;205mOpenning connection\u001b[0m\n",
      "\u001b[38;5;31mOpenning connection\u001b[0m\n",
      "\u001b[38;5;205m{'id': UUID('c17feb88-db0b-4c58-84c1-8bac48b0dc77'), 'name': 'monitor_for_deletion'}\u001b[0m\n",
      "\u001b[38;5;205m{'id': UUID('e72bd6e6-b880-4b64-b91b-dedfa98fb12e'), 'name': 'vitaly_leen_reg_mon_1'}\u001b[0m\n",
      "\u001b[38;5;205m{'id': UUID('6f2b03f0-bedb-4b31-b937-190d88c1f040'), 'name': 'not_standalone_monitor_007'}\u001b[0m\n",
      "\u001b[38;5;205mfetched 100 %\u001b[0m\n",
      "\u001b[32m{'id': UUID('c17feb88-db0b-4c58-84c1-8bac48b0dc77'), 'name': 'monitor_for_deletion'}\u001b[0m\n",
      "\u001b[32m{'id': UUID('e72bd6e6-b880-4b64-b91b-dedfa98fb12e'), 'name': 'vitaly_leen_reg_mon_1'}\u001b[0m\n",
      "\u001b[38;5;31m{'id': UUID('c17feb88-db0b-4c58-84c1-8bac48b0dc77'), 'name': 'monitor_for_deletion'}\u001b[0m\n",
      "\u001b[32m{'id': UUID('6f2b03f0-bedb-4b31-b937-190d88c1f040'), 'name': 'not_standalone_monitor_007'}\u001b[0m\n",
      "\u001b[38;5;31m{'id': UUID('e72bd6e6-b880-4b64-b91b-dedfa98fb12e'), 'name': 'vitaly_leen_reg_mon_1'}\u001b[0m\n",
      "\u001b[32mfetched 100 %\u001b[0m\n",
      "\u001b[38;5;31m{'id': UUID('6f2b03f0-bedb-4b31-b937-190d88c1f040'), 'name': 'not_standalone_monitor_007'}\u001b[0m\n",
      "\u001b[38;5;31mfetched 100 %\u001b[0m\n"
     ]
    }
   ],
   "source": [
    "asyncio.gather(\n",
    "    async_get_monitors_many_calls(color='green'),\n",
    "    async_get_monitors_many_calls(color=\"pink\"),\n",
    "    async_get_monitors_many_calls(color=\"teal\")\n",
    ")"
   ]
  },
  {
   "cell_type": "markdown",
   "id": "998865b5",
   "metadata": {
    "slideshow": {
     "slide_type": "slide"
    }
   },
   "source": [
    "# Compare "
   ]
  },
  {
   "cell_type": "markdown",
   "id": "0e57f3c5",
   "metadata": {
    "slideshow": {
     "slide_type": "subslide"
    }
   },
   "source": [
    "## Girhub data\n",
    "* aiopg - 1327, last release October 2022\n",
    "* psycopg3 - 1100, last commit recently\n",
    "* asyncpg - 6100, last commit recently"
   ]
  },
  {
   "cell_type": "markdown",
   "id": "e3da99fb",
   "metadata": {
    "slideshow": {
     "slide_type": "subslide"
    }
   },
   "source": [
    "## Benchmark data (from asyncpg creators research)\n"
   ]
  },
  {
   "cell_type": "code",
   "execution_count": 9,
   "id": "0f3ab286",
   "metadata": {
    "slideshow": {
     "slide_type": "subslide"
    }
   },
   "outputs": [
    {
     "data": {
      "text/html": [
       "<img src=\"img/Benchmark.png\" width=\"800\" class=\"unconfined\"/>"
      ],
      "text/plain": [
       "<IPython.core.display.Image object>"
      ]
     },
     "metadata": {},
     "output_type": "display_data"
    }
   ],
   "source": [
    "display(Image(url='img/Benchmark.png', width=800, unconfined=True))"
   ]
  },
  {
   "cell_type": "markdown",
   "id": "b707ed0e",
   "metadata": {
    "slideshow": {
     "slide_type": "subslide"
    }
   },
   "source": [
    "## Benchmark data\n",
    "The above results are a geometric mean of benchmarks obtained with PostgreSQL client driver benchmarking toolbench in June 2023 (click on the chart to see full details).\n"
   ]
  },
  {
   "cell_type": "markdown",
   "id": "34e39ad1",
   "metadata": {
    "slideshow": {
     "slide_type": "subslide"
    }
   },
   "source": [
    "The above results are a geometric mean of benchmarks obtained with PostgreSQL client driver benchmarking toolbench in June 2023 (click on the chart to see full details).  [Link to the full research](https://gistpreview.github.io/?0ed296e93523831ea0918d42dd1258c2)   \n",
    "**However, the [research](https://github.com/MagicStack/asyncpg?tab=readme-ov-file) was done by asyncpg creators, so please be caution with using this benchmark.**"
   ]
  },
  {
   "cell_type": "markdown",
   "id": "249e4219",
   "metadata": {
    "slideshow": {
     "slide_type": "subslide"
    }
   },
   "source": [
    "## In general\n",
    "\n",
    "- aiopg:\n",
    "\n",
    "- psycopg3: Extensive docs, docs on async topic include useful examples.In one of the PRs, a main contributor shared a blogpost (May 2020) they wrote. The topic was optimization and tagged with psycopg and development. asyncpg is faster, but psycopg aims to be more user-friendly\n",
    "\n",
    "- asyncpg: extensive README. Includes benchmark showing it's supposedly 3x faster than aiopg and psycopg2, psycopg3 is not mentioned in the benchmark.\n"
   ]
  },
  {
   "cell_type": "markdown",
   "id": "3628a915",
   "metadata": {
    "slideshow": {
     "slide_type": "skip"
    }
   },
   "source": [
    "# aiopg\n",
    "\n",
    "- Python: 3.6+ \n",
    "- OS: Linux, macOS, Windows\n",
    "- Uses psycopg2-binary and requires sqlalchemy"
   ]
  },
  {
   "cell_type": "markdown",
   "id": "8ea6d445",
   "metadata": {
    "slideshow": {
     "slide_type": "skip"
    }
   },
   "source": [
    "- 1327 stars\n",
    "- last release October 2022 (9 month ago)\n",
    "- 59 issues\n",
    "- 12 open PRs"
   ]
  },
  {
   "cell_type": "markdown",
   "id": "13b7cec0",
   "metadata": {
    "slideshow": {
     "slide_type": "skip"
    }
   },
   "source": [
    "# psycopg3\n",
    "\n",
    "- Python: from version 3.7 to 3.11\n",
    "- Python 3.6 supported before Psycopg 3.1\n",
    "- PostgreSQL: from version 10 to 15 (We use 14)\n",
    "- OS: Linux, macOS, Windows"
   ]
  },
  {
   "cell_type": "markdown",
   "id": "243bf8a9",
   "metadata": {
    "slideshow": {
     "slide_type": "skip"
    }
   },
   "source": [
    "- 1100 stars\n",
    "- last commit recently\n",
    "- 35 issues\n",
    "- 11 open PRs"
   ]
  },
  {
   "cell_type": "markdown",
   "id": "59919ea7",
   "metadata": {
    "slideshow": {
     "slide_type": "skip"
    }
   },
   "source": [
    "# asyncpg\n",
    "\n",
    "- Python: 3.7 +\n",
    "- PostgreSQL: from version 9.5- to 15 (We use 14)"
   ]
  },
  {
   "cell_type": "markdown",
   "id": "1ba41557",
   "metadata": {
    "slideshow": {
     "slide_type": "skip"
    }
   },
   "source": [
    "- 6100 stars\n",
    "- last commit recently\n",
    "- 181 issues\n",
    "- 20 open PRs"
   ]
  },
  {
   "cell_type": "markdown",
   "id": "e6270514",
   "metadata": {
    "slideshow": {
     "slide_type": "skip"
    }
   },
   "source": [
    "### For future read:\n",
    "- https://www.varrazzo.com/blog/2020/05/19/a-trip-into-optimisation/"
   ]
  },
  {
   "cell_type": "markdown",
   "id": "053cdc43",
   "metadata": {
    "slideshow": {
     "slide_type": "slide"
    }
   },
   "source": [
    "# PRESENTATION IS OVER."
   ]
  }
 ],
 "metadata": {
  "celltoolbar": "Slideshow",
  "kernelspec": {
   "display_name": "async-libraries-test-conda-real",
   "language": "python",
   "name": "async-libraries-test-conda-real"
  },
  "language_info": {
   "codemirror_mode": {
    "name": "ipython",
    "version": 3
   },
   "file_extension": ".py",
   "mimetype": "text/x-python",
   "name": "python",
   "nbconvert_exporter": "python",
   "pygments_lexer": "ipython3",
   "version": "3.9.16"
  }
 },
 "nbformat": 4,
 "nbformat_minor": 5
}
